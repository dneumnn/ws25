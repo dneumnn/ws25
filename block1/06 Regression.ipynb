{
 "cells": [
  {
   "cell_type": "markdown",
   "id": "de0a7346-2d7b-42c5-b9b4-ad7f937f0883",
   "metadata": {},
   "source": [
    "# Regression\n",
    "\n",
    "Estimating the price of a house, given real estate data (scalar regression)\n",
    "\n",
    "The California Housing dataset is a modern, ethical, and well-documented alternative to the old Boston Housing data.\n",
    "- Originally derived from the 1990 U.S. Census.\n",
    "- Published in the StatLib repository and later adopted by scikit-learn.\n",
    "- It describes housing values and demographic information for districts (block groups) in California.\n",
    "\n",
    "Goal: To predict the median house value (in hundreds of thousands of dollars) for each California district based on census features."
   ]
  },
  {
   "cell_type": "markdown",
   "id": "002130cb-77bd-44b7-acd9-e69f24149f31",
   "metadata": {},
   "source": [
    "## Get The Data \n",
    "### House Features\n",
    "| Feature Name | Description                              | Type / Unit                                          |\n",
    "| ------------ | ---------------------------------------- | ---------------------------------------------------- |\n",
    "| `MedInc`     | Median income in the block group         | continuous, in tens of thousands (e.g., 3 = $30,000) |\n",
    "| `HouseAge`   | Median age of houses                     | continuous, in years                                 |\n",
    "| `AveRooms`   | Average number of rooms per household    | continuous                                           |\n",
    "| `AveBedrms`  | Average number of bedrooms per household | continuous                                           |\n",
    "| `Population` | Block group population                   | continuous                                           |\n",
    "| `AveOccup`   | Average number of people per household   | continuous                                           |\n",
    "| `Latitude`   | Latitude coordinate                      | continuous                                           |\n",
    "| `Longitude`  | Longitude coordinate                     | continuous                                           |\n",
    "\n",
    "### The House prices\n",
    "| Target Name   | Description        | Unit                                                       |\n",
    "| ------------- | ------------------ | ---------------------------------------------------------- |\n",
    "| `MedHouseVal` | Median house value | in hundreds of thousands of dollars (e.g., 2.5 = $250,000) |\n",
    "\n"
   ]
  },
  {
   "cell_type": "code",
   "execution_count": 1,
   "id": "4a1bdd4b-1b4b-4fae-959d-467c83b3b727",
   "metadata": {},
   "outputs": [],
   "source": [
    "# !pip install scikit-learn"
   ]
  },
  {
   "cell_type": "code",
   "execution_count": 2,
   "id": "a113d413-d9b4-4fe5-b5fb-ba7019211013",
   "metadata": {},
   "outputs": [],
   "source": [
    "from sklearn.datasets import fetch_california_housing\n",
    "\n",
    "california = fetch_california_housing() #(as_frame=True) #get the data as pandas dataframe\n",
    "X = california.data        #pandas.core.frame.DataFrame\n",
    "y = california.target      #pandas.core.series.Series\n"
   ]
  },
  {
   "cell_type": "code",
   "execution_count": 3,
   "id": "bbd849c4-5c56-4d52-835c-b91fd4b6482c",
   "metadata": {},
   "outputs": [
    {
     "name": "stdout",
     "output_type": "stream",
     "text": [
      "20640 20640\n"
     ]
    }
   ],
   "source": [
    "print(len(X), len(y))"
   ]
  },
  {
   "cell_type": "code",
   "execution_count": 4,
   "id": "f9150564-8731-4092-8fb9-34823824f24b",
   "metadata": {},
   "outputs": [
    {
     "name": "stdout",
     "output_type": "stream",
     "text": [
      "<class 'numpy.ndarray'> <class 'numpy.ndarray'>\n"
     ]
    }
   ],
   "source": [
    "print(type(X), type(y))"
   ]
  },
  {
   "cell_type": "markdown",
   "id": "f0973ae7-cd4e-4d87-879a-caf0f109a006",
   "metadata": {},
   "source": [
    "## Split Data into Train, Validation and Test Set"
   ]
  },
  {
   "cell_type": "code",
   "execution_count": 5,
   "id": "fa2113ee-6946-4278-acc9-4a95c17da2db",
   "metadata": {},
   "outputs": [
    {
     "name": "stdout",
     "output_type": "stream",
     "text": [
      "(20640, 8) (16512, 8) (2064, 8) (2064, 8)\n"
     ]
    }
   ],
   "source": [
    "from sklearn.model_selection import train_test_split\n",
    "\n",
    "## Split into Train 80%, Validation 10% and Test Set 10%\n",
    "from sklearn.model_selection import train_test_split\n",
    "\n",
    "# Step 1: Split off train set first (e.g., 80% train and 20% temp)\n",
    "X_train, X_temp, y_train, y_temp = train_test_split(\n",
    "    X, y,\n",
    "    test_size=0.2,\n",
    "    random_state=42,\n",
    "    shuffle=True\n",
    ")\n",
    "\n",
    "# Step 2: Split remaining data into validation/test (50% validation, 50% test)\n",
    "X_val, X_test, y_val, y_test = train_test_split(\n",
    "    X_temp, y_temp,\n",
    "    test_size=0.5,   \n",
    "    random_state=42,\n",
    "    shuffle=True\n",
    ")\n",
    "print(X.shape, X_train.shape, X_val.shape, X_test.shape )"
   ]
  },
  {
   "cell_type": "markdown",
   "id": "7ea2f3ab-8db8-4528-9ab9-1e26c5735f85",
   "metadata": {},
   "source": [
    "## Data Normalization\n",
    "Problem data took wildly different ranges. The model might be able to automatically adapt to such heterogeneous data, but it would definitely make learning more difficult. A widespread best practice to deal with such data is to do feature-wise normalization: for each feature in the input data (a column in the input data matrix), subtract the mean of the feature and divide by the standard deviation. As a result the feature is centered around 0 and has a unit standard deviation. "
   ]
  },
  {
   "cell_type": "code",
   "execution_count": 6,
   "id": "09d79e64-dea5-41db-96b6-e18f59a7bfc0",
   "metadata": {},
   "outputs": [
    {
     "name": "stdout",
     "output_type": "stream",
     "text": [
      "(16512, 8)\n",
      "(2064, 8)\n",
      "(2064, 8)\n"
     ]
    }
   ],
   "source": [
    "mean = X_train.mean(axis=0)\n",
    "std = X_train.std(axis=0)\n",
    "X_train = (X_train - mean) / std\n",
    "print(X_train.shape)\n",
    "\n",
    "mean = X_val.mean(axis=0)\n",
    "std = X_val.std(axis=0)\n",
    "X_val = (X_val - mean) / std\n",
    "print(X_val.shape)\n",
    "\n",
    "mean = X_test.mean(axis=0)\n",
    "std = X_test.std(axis=0)\n",
    "X_test = (X_test - mean) / std\n",
    "print(X_test.shape)"
   ]
  },
  {
   "cell_type": "markdown",
   "id": "5a07ec0b-ddf5-4653-945a-19e9d06468e2",
   "metadata": {},
   "source": [
    "## Convert Numpy Data into PyTorch Tensors "
   ]
  },
  {
   "cell_type": "code",
   "execution_count": 7,
   "id": "fdaa03ee-a6a1-403c-8bcf-2219ca1faf2f",
   "metadata": {},
   "outputs": [
    {
     "name": "stdout",
     "output_type": "stream",
     "text": [
      "516 65 65\n"
     ]
    }
   ],
   "source": [
    "import torch\n",
    "from torch.utils.data import TensorDataset, DataLoader\n",
    "\n",
    "batch_size = 32\n",
    "\n",
    "# Convert NumPy arrays to PyTorch tensors and wrap tensors in a dataset\n",
    "train_dataset = TensorDataset(torch.tensor(X_train, dtype=torch.float32), \n",
    "                              torch.tensor(y_train, dtype=torch.float32))\n",
    "\n",
    "val_dataset = TensorDataset(torch.tensor(X_val, dtype=torch.float32), \n",
    "                              torch.tensor(y_val, dtype=torch.float32))\n",
    "\n",
    "test_dataset = TensorDataset(torch.tensor(X_test, dtype=torch.float32), \n",
    "                              torch.tensor(y_test, dtype=torch.float32))\n",
    "\n",
    "# Create DataLoaders\n",
    "train_loader = DataLoader(train_dataset, batch_size=batch_size, shuffle=True)\n",
    "val_loader = DataLoader(val_dataset, batch_size=batch_size, shuffle=True)\n",
    "test_loader = DataLoader(test_dataset, batch_size=batch_size, shuffle=False) #<-- no shuffle here!\n",
    "\n",
    "print(len(train_loader), len(val_loader),  len(test_loader))\n",
    "# Example: iterate through batches\n",
    "#for batch_X, batch_y in loader:\n",
    "#    print(batch_X.shape, batch_y.shape)\n",
    "#    break  # just to show one batch\n"
   ]
  },
  {
   "cell_type": "markdown",
   "id": "c974c097-26e1-4063-b0b9-d4ab8f72f230",
   "metadata": {},
   "source": [
    "## Model Definition and Model Initialization"
   ]
  },
  {
   "cell_type": "code",
   "execution_count": 8,
   "id": "98d703e5-bde6-400e-8b46-afb6a46953f3",
   "metadata": {},
   "outputs": [],
   "source": [
    "## Define two Models: One with two and one three linear layers\n",
    "## Experiment with different activation functions\n",
    "\n",
    "from torch import nn\n",
    "import torch.nn.functional as F\n",
    "\n",
    "class Linear2LayerModel(nn.Module):\n",
    "    def __init__(self, input_dim, hidden=32, output_dim=1):\n",
    "        super().__init__()\n",
    "        self.fc1 = nn.Linear(input_dim, hidden)   # First linear layer\n",
    "        self.fc2 = nn.Linear(hidden, output_dim)  # Output layer\n",
    "\n",
    "    def forward(self, x):\n",
    "        x = F.relu(self.fc1(x))  # Activation after first layer\n",
    "        x = self.fc2(x)          # Output layer (no activation for regression)\n",
    "        return x\n",
    "\n",
    "class Linear3LayerModel(nn.Module):\n",
    "    def __init__(self, input_dim, hidden1=64, hidden2=32, output_dim=1):\n",
    "        super().__init__()\n",
    "        self.fc1 = nn.Linear(input_dim, hidden1)   # First linear layer\n",
    "        self.fc2 = nn.Linear(hidden1, hidden2)     # Second linear layer\n",
    "        self.fc3 = nn.Linear(hidden2, output_dim)  # Output layer\n",
    "\n",
    "    def forward(self, x):\n",
    "        x = F.relu(self.fc1(x))  # Activation after first layer\n",
    "        x = F.relu(self.fc2(x))  # Activation after second layer\n",
    "        x = self.fc3(x)          # Output layer (no activation for regression)\n",
    "        return x\n"
   ]
  },
  {
   "cell_type": "code",
   "execution_count": 9,
   "id": "21a047ee-7a0f-402d-b5ed-094ae1607d64",
   "metadata": {},
   "outputs": [
    {
     "data": {
      "text/plain": [
       "Linear3LayerModel(\n",
       "  (fc1): Linear(in_features=8, out_features=64, bias=True)\n",
       "  (fc2): Linear(in_features=64, out_features=32, bias=True)\n",
       "  (fc3): Linear(in_features=32, out_features=1, bias=True)\n",
       ")"
      ]
     },
     "execution_count": 9,
     "metadata": {},
     "output_type": "execute_result"
    }
   ],
   "source": [
    "## Initialize the model \n",
    "## Start with the smaller 2-layer model\n",
    "model = Linear3LayerModel(input_dim=8, hidden1=64, hidden2=32, output_dim=1)\n",
    "#model = Linear2LayerModel(input_dim=8, hidden=32, output_dim=1)\n",
    "model"
   ]
  },
  {
   "cell_type": "code",
   "execution_count": 10,
   "id": "4ae88dab-bea9-488a-a563-6f79b7eb09ce",
   "metadata": {},
   "outputs": [
    {
     "name": "stdout",
     "output_type": "stream",
     "text": [
      "fc1.weight torch.Size([64, 8])\n",
      "fc1.bias torch.Size([64])\n",
      "fc2.weight torch.Size([32, 64])\n",
      "fc2.bias torch.Size([32])\n",
      "fc3.weight torch.Size([1, 32])\n",
      "fc3.bias torch.Size([1])\n"
     ]
    }
   ],
   "source": [
    "#check the parameter\n",
    "for name, param in model.named_parameters():\n",
    "    print(name, param.shape)"
   ]
  },
  {
   "cell_type": "markdown",
   "id": "779268d9-840a-4eab-a392-c0c05f23be7e",
   "metadata": {},
   "source": [
    "## Define Loss Function and Optimizer"
   ]
  },
  {
   "cell_type": "code",
   "execution_count": 11,
   "id": "669fc339-7ac9-4635-815b-f08d9235d044",
   "metadata": {},
   "outputs": [],
   "source": [
    "# use mean squared error as loss function\n",
    "import torch.optim as optim\n",
    "\n",
    "# Start with high learning rate and \n",
    "learning_rate = 0.0001\n",
    "criterion =  nn.MSELoss() # Use for regression\n",
    "optimizer = optim.Adam(model.parameters(), lr=learning_rate) \n",
    "\n",
    "# Use a different loss function for validation: MAE"
   ]
  },
  {
   "cell_type": "markdown",
   "id": "6dcd85f1-3f8a-402a-82ab-964cd904145c",
   "metadata": {},
   "source": [
    "## Start the Training Loop"
   ]
  },
  {
   "cell_type": "code",
   "execution_count": 12,
   "id": "bf286141-9d40-4ed8-899d-89a105879b54",
   "metadata": {},
   "outputs": [
    {
     "name": "stdout",
     "output_type": "stream",
     "text": [
      "mps\n"
     ]
    },
    {
     "data": {
      "text/plain": [
       "Linear3LayerModel(\n",
       "  (fc1): Linear(in_features=8, out_features=64, bias=True)\n",
       "  (fc2): Linear(in_features=64, out_features=32, bias=True)\n",
       "  (fc3): Linear(in_features=32, out_features=1, bias=True)\n",
       ")"
      ]
     },
     "execution_count": 12,
     "metadata": {},
     "output_type": "execute_result"
    }
   ],
   "source": [
    "device = torch.device(\"cuda\" if torch.cuda.is_available() else \"cpu\")\n",
    "device = torch.device(\"mps\" if torch.backends.mps.is_available() else \"cpu\")\n",
    "print(device)\n",
    "\n",
    "#set model to divice\n",
    "model.to(device)"
   ]
  },
  {
   "cell_type": "code",
   "execution_count": 13,
   "id": "29744102-1305-4b6e-b826-61bcc1fb3c34",
   "metadata": {},
   "outputs": [
    {
     "name": "stdout",
     "output_type": "stream",
     "text": [
      "Epoch [1/10], Train-Loss: 2.5603. Validation Loss = 1.0701 Saved models/regression_0_2025-10-19T08-51-32_model_weights.pth\n",
      "Epoch [2/10], Train-Loss: 0.9790. Validation Loss = 0.7748 Saved models/regression_1_2025-10-19T08-51-33_model_weights.pth\n",
      "Epoch [3/10], Train-Loss: 0.7710. Validation Loss = 0.6390 Saved models/regression_2_2025-10-19T08-51-35_model_weights.pth\n",
      "Epoch [4/10], Train-Loss: 0.6730. Validation Loss = 0.5754 Saved models/regression_3_2025-10-19T08-51-36_model_weights.pth\n",
      "Epoch [5/10], Train-Loss: 0.6064. Validation Loss = 0.5386 Saved models/regression_4_2025-10-19T08-51-37_model_weights.pth\n",
      "Epoch [6/10], Train-Loss: 0.5489. Validation Loss = 0.5215 Saved models/regression_5_2025-10-19T08-51-39_model_weights.pth\n",
      "Epoch [7/10], Train-Loss: 0.5043. Validation Loss = 0.5266 Saved models/regression_6_2025-10-19T08-51-40_model_weights.pth\n",
      "Epoch [8/10], Train-Loss: 0.4711. Validation Loss = 0.5643 Saved models/regression_7_2025-10-19T08-51-41_model_weights.pth\n",
      "Epoch [9/10], Train-Loss: 0.4483. Validation Loss = 0.6252 Saved models/regression_8_2025-10-19T08-51-43_model_weights.pth\n",
      "Epoch [10/10], Train-Loss: 0.4334. Validation Loss = 0.6742 Saved models/regression_9_2025-10-19T08-51-44_model_weights.pth\n"
     ]
    }
   ],
   "source": [
    "from datetime import datetime\n",
    "\n",
    "train_history = []\n",
    "val_history = []\n",
    "\n",
    "epochs = 10\n",
    "for epoch in range(epochs):\n",
    "    model.train()\n",
    "    total_loss = 0\n",
    "    for batch_X, batch_y in train_loader:\n",
    "        batch_X, batch_y = batch_X.to(device), batch_y.to(device)\n",
    "        outputs = model(batch_X)\n",
    "        loss = criterion(outputs.squeeze(), batch_y) #Use outputs.squeeze() to match shape of y if y is 1D.\n",
    "        total_loss += loss.item()\n",
    "        optimizer.zero_grad()\n",
    "        loss.backward()\n",
    "        optimizer.step()\n",
    "\n",
    "    avg_loss = total_loss / len(train_loader)\n",
    "    train_history.append(avg_loss)\n",
    "    \n",
    "    # ----- “Validation” check on validation set -----\n",
    "    model.eval()\n",
    "    val_loss = 0\n",
    "    with torch.no_grad():\n",
    "        for batch_X, batch_y in val_loader:\n",
    "            batch_X, batch_y = batch_X.to(device), batch_y.to(device)\n",
    "            outputs = model(batch_X)\n",
    "            loss = criterion(outputs.squeeze(), batch_y)\n",
    "            val_loss += loss.item()\n",
    "    val_loss /= len(val_loader)\n",
    "    val_history.append(val_loss)\n",
    "    \n",
    "    \n",
    "\n",
    "    #save the parameters of model after each epoch\n",
    "    t = datetime.now().replace(microsecond=0).isoformat().replace(\":\",\"-\")\n",
    "    model_filename = f\"models/regression_{epoch}_{t}_model_weights.pth\"\n",
    "    torch.save(model.state_dict(), model_filename)\n",
    "    \n",
    "    print(f\"Epoch [{epoch+1}/{epochs}], Train-Loss: {avg_loss:.4f}. Validation Loss = {val_loss:.4f} Saved {model_filename}\")"
   ]
  },
  {
   "cell_type": "code",
   "execution_count": 14,
   "id": "0d16b748-d372-410b-92d6-b45a106c61e8",
   "metadata": {},
   "outputs": [],
   "source": [
    "# !pip install matplotlib"
   ]
  },
  {
   "cell_type": "code",
   "execution_count": 15,
   "id": "ef7f5e65-3773-48df-84db-7d9f83f53a90",
   "metadata": {},
   "outputs": [
    {
     "data": {
      "image/png": "[encoded data removed]",
      "text/plain": [
       "<Figure size 640x480 with 1 Axes>"
      ]
     },
     "metadata": {},
     "output_type": "display_data"
    }
   ],
   "source": [
    "import matplotlib.pyplot as plt\n",
    "\n",
    "plt.plot(range(epochs), train_history)\n",
    "plt.plot(range(epochs), val_history)\n",
    "plt.xlabel(\"Epochs\")\n",
    "plt.ylabel(\"Loss\")\n",
    "plt.show()"
   ]
  },
  {
   "cell_type": "markdown",
   "id": "cf21410c-ca16-4e78-9115-645f465f60f7",
   "metadata": {},
   "source": [
    "IF YOU WANT TO RETRAIN THE MODEL THEN GO BACK TO CELL \"MODEL INITIALIZATION\""
   ]
  },
  {
   "cell_type": "markdown",
   "id": "b96b43e4-ea78-4d4f-98c1-5c5f74247835",
   "metadata": {},
   "source": [
    "## Overfitting\n",
    "\n",
    "IF STARTING WITH A HIGH LEARNING RATE lr = 0.001 THEN THEN VALIDATION LOSS IS STEADILY INCREASING\n",
    "\n",
    "- Train loss decreasing --> model is learning to fit the training data.\n",
    "- Validation loss increase --> model is failing to generalize to unseen data.\n",
    "\n",
    "Overfitting happens when your model learns the training data too well, including its noise and random fluctuations, instead of learning the general underlying patterns.\n",
    "\n",
    "### What are the reasons and what could we change?\n",
    "- Model complexity is too high relative to the amount of data: Too many parameters for small dataset?\n",
    "- Insufficient regularization: No weight decay (L2), dropout, or other constraints.\n",
    "- Too many epochs: the model memorizes training data rather than generalizing.\n",
    "- Small training dataset: fewer samples make overfitting happen faster.\n",
    "- Learning rate might be too high: can cause validation loss to oscillate or diverge.\n",
    "\n",
    "| Strategy                        | Description                                            |\n",
    "| ------------------------------- | ------------------------------------------------------ |\n",
    "| 🧩 **Simplify model**           | Reduce hidden layer size or depth                      |\n",
    "| 🧹 **Regularization**           | Add L2 weight decay (`weight_decay` in Adam), or L1    |\n",
    "| 🎲 **Dropout**                  | Add dropout layers (`nn.Dropout(p=0.3)`)               |\n",
    "| 🛑 **Early stopping**           | Stop when validation loss stops improving              |\n",
    "| 📈 **More data / augmentation** | Increase sample diversity                              |\n",
    "| ⚖️ **Cross-validation**         | Use multiple splits for better generalization estimate |\n",
    "| ⚙️ **Normalization**            | Scale features and targets properly                    |\n",
    "| 🧮 **Reduce training epochs**   | Avoid over-training                                    |\n"
   ]
  },
  {
   "cell_type": "code",
   "execution_count": 19,
   "id": "d2ea77ca-70c5-4ae7-9040-0f45499a70a3",
   "metadata": {},
   "outputs": [
    {
     "name": "stdout",
     "output_type": "stream",
     "text": [
      "MSE: 0.4817.\n"
     ]
    }
   ],
   "source": [
    "# Use Test Set for Final Check\n",
    "Linear3LayerModel(input_dim=8, hidden1=64, hidden2=32, output_dim=1)  # initialize the same model!!\n",
    "\n",
    "# Load the stored parameters with best validation loss\n",
    "model_filename = \"models/regression_5_2025-10-19T08-51-39_model_weights.pth\"\n",
    "model.load_state_dict(torch.load(model_filename))\n",
    "model.eval()\n",
    "\n",
    "test_loss = 0\n",
    "with torch.no_grad():\n",
    "    for batch_X, batch_y in test_loader:\n",
    "        batch_X, batch_y = batch_X.to(device), batch_y.to(device)\n",
    "        outputs = model(batch_X)\n",
    "        loss = criterion(outputs.squeeze(), batch_y)\n",
    "        test_loss += loss.item()\n",
    "test_loss /= len(test_loader)\n",
    "print(f\"MSE: {test_loss:.4f}.\")"
   ]
  },
  {
   "cell_type": "markdown",
   "id": "6ef11fca-c857-4687-874d-de3f8220f668",
   "metadata": {},
   "source": [
    "## ------------- Backup ---------------"
   ]
  },
  {
   "cell_type": "markdown",
   "id": "f7e2e197-6d80-4acc-bcc2-45b335aa0a00",
   "metadata": {},
   "source": [
    "## Data Cleaning\n",
    "\n",
    "Eliminate None Values. For that concat X any and drop all lines with missing values "
   ]
  },
  {
   "cell_type": "code",
   "execution_count": 29,
   "id": "835afbb5-fc7e-4b1c-8ecd-11b6181e0827",
   "metadata": {},
   "outputs": [],
   "source": [
    "import pandas as pd\n",
    "\n",
    "data = pd.concat([X, y], axis=1)\n",
    "\n",
    "# Drop rows with any missing values\n",
    "data = data.dropna()\n",
    "\n",
    "# Split back into X and y\n",
    "X_clean = data.drop(y.name, axis=1)\n",
    "y_clean = data[y.name]"
   ]
  },
  {
   "cell_type": "code",
   "execution_count": 33,
   "id": "41266d4a-2442-4205-b531-23865c2ed202",
   "metadata": {
    "scrolled": true
   },
   "outputs": [
    {
     "name": "stdout",
     "output_type": "stream",
     "text": [
      "20640 20640\n"
     ]
    }
   ],
   "source": [
    "print(len(X_clean), len(y_clean))"
   ]
  },
  {
   "cell_type": "code",
   "execution_count": null,
   "id": "ca3e1370-1d50-402f-8a88-a7069ea8c1b3",
   "metadata": {},
   "outputs": [],
   "source": [
    "# If data are numpy arrays\n",
    "import numpy as np\n",
    "mask = np.isnan(X_clean) # Get a boolean mask of NaNs\n",
    "\n",
    "# Count NaNs per column (same as X_clean.isna().sum() in pandas)\n",
    "nan_per_column = np.sum(mask, axis=0)\n",
    "print(nan_per_column)"
   ]
  },
  {
   "cell_type": "code",
   "execution_count": null,
   "id": "431498c6-9d34-43c8-9bc3-cd59c8bfca88",
   "metadata": {},
   "outputs": [],
   "source": []
  }
 ],
 "metadata": {
  "kernelspec": {
   "display_name": "Python 3 (ipykernel)",
   "language": "python",
   "name": "python3"
  },
  "language_info": {
   "codemirror_mode": {
    "name": "ipython",
    "version": 3
   },
   "file_extension": ".py",
   "mimetype": "text/x-python",
   "name": "python",
   "nbconvert_exporter": "python",
   "pygments_lexer": "ipython3",
   "version": "3.12.12"
  }
 },
 "nbformat": 4,
 "nbformat_minor": 5
}
