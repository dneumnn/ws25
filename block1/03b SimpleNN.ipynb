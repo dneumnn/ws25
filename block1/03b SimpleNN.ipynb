{
 "cells": [
  {
   "cell_type": "markdown",
   "id": "b18e78aa-1a82-4821-a3e3-e4cdb280117c",
   "metadata": {},
   "source": [
    "# SimpleNN"
   ]
  },
  {
   "cell_type": "code",
   "execution_count": 21,
   "id": "67e3f130-e6f2-45eb-9579-502a76678e35",
   "metadata": {},
   "outputs": [],
   "source": [
    "import torch\n",
    "import torch.nn as nn\n",
    "import torch.nn.functional as F\n",
    "\n",
    "class SimpleMLP(nn.Module):\n",
    "    def __init__(self, input_dim, hidden_dim, output_dim):\n",
    "        super().__init__()\n",
    "        self.fc1 = nn.Linear(input_dim, hidden_dim)\n",
    "        self.fc2 = nn.Linear(hidden_dim, output_dim)\n",
    "        self.act = nn.ReLU()\n",
    "    \n",
    "    def forward(self, x):\n",
    "        x = self.act(self.fc1(x))\n",
    "        x = self.fc2(x)\n",
    "        return x"
   ]
  },
  {
   "cell_type": "code",
   "execution_count": 22,
   "id": "ffc7183f-8408-458b-8e75-39dcb85ea3dd",
   "metadata": {},
   "outputs": [],
   "source": [
    "# Modell instanziieren\n",
    "model = SimpleMLP(10, 64, 1)"
   ]
  },
  {
   "cell_type": "code",
   "execution_count": 23,
   "id": "db05655c-424e-41eb-8683-a8b204848dfb",
   "metadata": {},
   "outputs": [
    {
     "name": "stdout",
     "output_type": "stream",
     "text": [
      "769\n"
     ]
    }
   ],
   "source": [
    "# Alle trainierbaren Parameter anzeigen\n",
    "print(sum(p.numel() for p in model.parameters()))"
   ]
  },
  {
   "cell_type": "code",
   "execution_count": 24,
   "id": "33a4eed7-834a-4664-9dfd-10041e95d2dc",
   "metadata": {},
   "outputs": [
    {
     "data": {
      "text/plain": [
       "tensor([0.0297, 0.5728, 0.7498, 0.9593, 0.1630, 0.8634, 0.6444, 0.1519, 0.9931,\n",
       "        0.0390])"
      ]
     },
     "execution_count": 24,
     "metadata": {},
     "output_type": "execute_result"
    }
   ],
   "source": [
    "x = torch.rand(10, dtype=torch.float32)\n",
    "x"
   ]
  },
  {
   "cell_type": "code",
   "execution_count": 25,
   "id": "a3b21dd4-0770-4253-b18c-6d226b13c9f6",
   "metadata": {},
   "outputs": [
    {
     "data": {
      "text/plain": [
       "tensor([-0.0314], grad_fn=<ViewBackward0>)"
      ]
     },
     "execution_count": 25,
     "metadata": {},
     "output_type": "execute_result"
    }
   ],
   "source": [
    "y = model(x)\n",
    "y"
   ]
  },
  {
   "cell_type": "code",
   "execution_count": null,
   "id": "95cbfd93-e21c-48e0-8456-a9bf8e03f481",
   "metadata": {},
   "outputs": [],
   "source": []
  }
 ],
 "metadata": {
  "kernelspec": {
   "display_name": "Python 3 (ipykernel)",
   "language": "python",
   "name": "python3"
  },
  "language_info": {
   "codemirror_mode": {
    "name": "ipython",
    "version": 3
   },
   "file_extension": ".py",
   "mimetype": "text/x-python",
   "name": "python",
   "nbconvert_exporter": "python",
   "pygments_lexer": "ipython3",
   "version": "3.12.11"
  }
 },
 "nbformat": 4,
 "nbformat_minor": 5
}
