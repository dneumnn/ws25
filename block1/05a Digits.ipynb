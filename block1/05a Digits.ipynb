{
 "cells": [
  {
   "cell_type": "markdown",
   "id": "89890075-bfec-46a7-9871-9a20a7989bd6",
   "metadata": {},
   "source": [
    "# Hand Written Digits\n",
    "\n",
    "Load scikit-learn’s digits dataset or MNIST. Since MNIST is larger, let’s start with the built-in digits dataset (which has 8×8 grayscale images of handwritten numbers)."
   ]
  },
  {
   "cell_type": "code",
   "execution_count": null,
   "id": "f048d959-8ec3-4259-b80b-359d3c09e252",
   "metadata": {},
   "outputs": [],
   "source": [
    "import matplotlib.pyplot as plt\n",
    "from sklearn.datasets import load_digits\n",
    "\n",
    "# Load dataset\n",
    "digits = load_digits()\n",
    "\n",
    "x = 47\n",
    "\n",
    "# Get an image and label\n",
    "first_image = digits.images[x]\n",
    "first_label = digits.target[x]\n",
    "\n",
    "# Display the image\n",
    "plt.imshow(first_image, cmap='gray')\n",
    "#plt.title(f\"Label: {first_label}\")\n",
    "plt.axis('off')\n",
    "plt.show()\n"
   ]
  },
  {
   "cell_type": "markdown",
   "id": "1cfa7e76-a8f0-4a7f-bd05-7b6f68657afd",
   "metadata": {},
   "source": [
    "## OpenML repository\n",
    "\n",
    "fetch_openml is a scikit-learn function used to download datasets from the OpenML repository, a public platform for machine learning data. https://www.openml.org\n",
    "\n",
    "\n",
    "It can identify datasets by their name and version or by their unique integer data_id. The function returns a Bunch object, similar to a dictionary, containing the dataset's data, target, and description, which can then be used for machine learning tasks. "
   ]
  },
  {
   "cell_type": "code",
   "execution_count": null,
   "id": "53c200ca-4853-4e22-b333-22d4708cd493",
   "metadata": {},
   "outputs": [],
   "source": [
    "import matplotlib.pyplot as plt\n",
    "from sklearn.datasets import fetch_openml\n",
    "\n",
    "# Load MNIST from OpenML\n",
    "mnist = fetch_openml('mnist_784', version=1, as_frame=False)\n",
    "\n",
    "X_raw, y_raw = mnist['data'], mnist['target']\n",
    "X = X_raw.reshape(-1, 28, 28)  # reshape to images\n",
    "y = y_raw.astype(int)"
   ]
  },
  {
   "cell_type": "code",
   "execution_count": null,
   "id": "dc0c0092-a731-4e30-af41-045cac061005",
   "metadata": {},
   "outputs": [],
   "source": [
    "# Show image\n",
    "plt.imshow(X[0], cmap='gray')\n",
    "plt.title(f\"Label: {y[0]}\")\n",
    "plt.axis('off')\n",
    "plt.show()"
   ]
  },
  {
   "cell_type": "code",
   "execution_count": null,
   "id": "f1020134-a7bb-4c42-a189-66bd51d1e442",
   "metadata": {},
   "outputs": [],
   "source": [
    "dir(mnist)"
   ]
  },
  {
   "cell_type": "code",
   "execution_count": null,
   "id": "ec0ad1a5-5943-42d8-83e0-c2f39e33f87b",
   "metadata": {},
   "outputs": [],
   "source": [
    "mnist.DESCR"
   ]
  },
  {
   "cell_type": "code",
   "execution_count": null,
   "id": "c4872f9e-451c-4145-bfcb-03b0b33c42fd",
   "metadata": {},
   "outputs": [],
   "source": [
    "X_raw.shape"
   ]
  },
  {
   "cell_type": "markdown",
   "id": "a355d88b-9408-427f-88e2-c4c99381873c",
   "metadata": {},
   "source": [
    "## Normalisierung der Daten"
   ]
  },
  {
   "cell_type": "code",
   "execution_count": null,
   "id": "658bc552-ecfb-47ac-b8b3-d59e04d46f8a",
   "metadata": {},
   "outputs": [],
   "source": [
    "X = X_raw / 255.0"
   ]
  },
  {
   "cell_type": "code",
   "execution_count": null,
   "id": "b7415ce7-5065-4397-b4c5-0b152f7506f8",
   "metadata": {},
   "outputs": [],
   "source": [
    "X_raw.shape"
   ]
  },
  {
   "cell_type": "code",
   "execution_count": null,
   "id": "fd2cce4c-d2d6-43b3-ac59-4b54e2e831c7",
   "metadata": {},
   "outputs": [],
   "source": [
    "mean = X.mean()\n",
    "std = X.std()\n",
    "print(\"Mittelwert        :\", mean)\n",
    "print(\"Standardabweichung:\", std)"
   ]
  },
  {
   "cell_type": "code",
   "execution_count": null,
   "id": "b08be9a6-9886-4dc8-b934-4b10f5ed64bd",
   "metadata": {},
   "outputs": [],
   "source": [
    "X = (X - mean) / std"
   ]
  },
  {
   "cell_type": "code",
   "execution_count": null,
   "id": "df912c2c-56ac-4a8d-98cc-7889c787b866",
   "metadata": {},
   "outputs": [],
   "source": [
    "mean = X.mean()\n",
    "std = X.std()\n",
    "print(\"Mittelwert        :\", mean)\n",
    "print(\"Standardabweichung:\", std)"
   ]
  },
  {
   "cell_type": "code",
   "execution_count": null,
   "id": "63119a22-e9aa-4a33-8f99-9c219478d56b",
   "metadata": {},
   "outputs": [],
   "source": []
  },
  {
   "cell_type": "code",
   "execution_count": null,
   "id": "4bda4d70-07c3-4128-a3f5-6346220982c4",
   "metadata": {},
   "outputs": [],
   "source": []
  }
 ],
 "metadata": {
  "kernelspec": {
   "display_name": "Python 3 (ipykernel)",
   "language": "python",
   "name": "python3"
  },
  "language_info": {
   "codemirror_mode": {
    "name": "ipython",
    "version": 3
   },
   "file_extension": ".py",
   "mimetype": "text/x-python",
   "name": "python",
   "nbconvert_exporter": "python",
   "pygments_lexer": "ipython3",
   "version": "3.12.12"
  }
 },
 "nbformat": 4,
 "nbformat_minor": 5
}
