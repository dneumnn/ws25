{
 "cells": [
  {
   "cell_type": "markdown",
   "id": "bd2141ae-6705-4664-bcdd-5e9c14c1a732",
   "metadata": {},
   "source": [
    "# Tensor Operations"
   ]
  },
  {
   "cell_type": "code",
   "execution_count": null,
   "id": "9bb5c2db-03c9-478e-b934-2129de9af614",
   "metadata": {},
   "outputs": [],
   "source": [
    "import numpy as np\n",
    "import torch"
   ]
  },
  {
   "cell_type": "markdown",
   "id": "e059c35a-b42d-4504-a4ef-d51feff755f5",
   "metadata": {},
   "source": [
    "## Numpy"
   ]
  },
  {
   "cell_type": "code",
   "execution_count": null,
   "id": "2edc8273-53ac-4b64-bbf6-047def94667c",
   "metadata": {},
   "outputs": [],
   "source": [
    "# Zeilenvektor\n",
    "zv = np.random.random((1,2))\n",
    "zv"
   ]
  },
  {
   "cell_type": "code",
   "execution_count": null,
   "id": "fc526bd9-488e-4517-bdff-c01cbeb0c98e",
   "metadata": {},
   "outputs": [],
   "source": [
    "# Spaltenvektor\n",
    "sv = np.reshape(zv,(2,1))\n",
    "sv"
   ]
  },
  {
   "cell_type": "code",
   "execution_count": null,
   "id": "79758061-1a3b-43eb-9018-8f332a3d1862",
   "metadata": {},
   "outputs": [],
   "source": [
    "# Matrix\n",
    "A = np.array([[1,2],[3,4]])\n",
    "A"
   ]
  },
  {
   "cell_type": "markdown",
   "id": "7b6a8146-8276-4a02-9917-25c1b70170a4",
   "metadata": {},
   "source": [
    "## PyTorch"
   ]
  },
  {
   "cell_type": "code",
   "execution_count": null,
   "id": "c294b510-8f29-4913-a7f2-e3632a5ff32b",
   "metadata": {},
   "outputs": [],
   "source": [
    "data = [[1, 2],[3, 4]]\n",
    "T = torch.tensor(data)   #initialize from python list and back T.tolist()\n",
    "print(\"shape:\", T.shape) #print(\"size :\", t.size())\n",
    "print(\"rank :\", T.ndim)  #number of axis or rank of tensor\n",
    "print(\"type :\", T.dtype) #data type"
   ]
  },
  {
   "cell_type": "code",
   "execution_count": null,
   "id": "4cb3877f-077d-4303-a29f-70b5b8d3f583",
   "metadata": {},
   "outputs": [],
   "source": [
    "np_array = np.array([[1,2],[3,4]])\n",
    "T = torch.tensor(np_array)   #initialize from numpy array and back T.numpy()\n",
    "# T = torch.from_numpy(np_array)\n",
    "print(\"shape:\", T.shape) #print(\"size :\", t.size())\n",
    "print(\"rank :\", T.ndim)  #number of axis or rank of tensor\n",
    "print(\"type :\", T.dtype) #data type"
   ]
  },
  {
   "cell_type": "code",
   "execution_count": null,
   "id": "2d425b0f-2d92-4c3e-aee7-779fe1a0430d",
   "metadata": {},
   "outputs": [],
   "source": [
    "T = torch.tensor([[1,2],[3,4]], dtype=torch.float32)\n",
    "T"
   ]
  },
  {
   "cell_type": "code",
   "execution_count": null,
   "id": "d29eed19-166c-4bf7-b689-cdd098cffbea",
   "metadata": {},
   "outputs": [],
   "source": [
    "t = torch.tensor(3)\n",
    "t"
   ]
  },
  {
   "cell_type": "markdown",
   "id": "eea83cc6-b1cf-4f94-b57c-ed6eb0300619",
   "metadata": {},
   "source": [
    "## Random Tensoren"
   ]
  },
  {
   "cell_type": "code",
   "execution_count": null,
   "id": "50f0e345-5357-4c80-9979-5a8899992eda",
   "metadata": {},
   "outputs": [],
   "source": [
    "t = torch.rand(3,1)\n",
    "t"
   ]
  },
  {
   "cell_type": "markdown",
   "id": "7b09b7ee-39e8-47b2-ab16-d03a57aec20c",
   "metadata": {},
   "source": [
    "## Tensor Operationen"
   ]
  },
  {
   "cell_type": "code",
   "execution_count": null,
   "id": "72922f55-a2a0-4b48-8a80-20f9bfbadbeb",
   "metadata": {},
   "outputs": [],
   "source": [
    "# Skalarprodukt\n",
    "y = np.matmul(zv, sv)\n",
    "y.shape"
   ]
  },
  {
   "cell_type": "code",
   "execution_count": null,
   "id": "a8f94807-2384-4374-915d-0264b9671392",
   "metadata": {},
   "outputs": [],
   "source": [
    "# Äusseres Produkt\n",
    "A = np.matmul(sv, zv)\n",
    "A.shape"
   ]
  },
  {
   "cell_type": "code",
   "execution_count": null,
   "id": "5b1a3b43-e58d-43ab-bfc2-45fce531839f",
   "metadata": {},
   "outputs": [],
   "source": [
    "v1 = np.random.random((1,2))\n",
    "v2 = np.random.random((1,2))\n",
    "np.outer(v1, v2)"
   ]
  },
  {
   "cell_type": "code",
   "execution_count": null,
   "id": "de095549-737c-44b3-9ab3-1c67bdb95171",
   "metadata": {},
   "outputs": [],
   "source": [
    "A = torch.tensor([[1,2],[3,4]], dtype=torch.int32)\n",
    "B = torch.tensor([[1,0],[0,1]], dtype=torch.int32)\n",
    "C = torch.matmul(A,B)\n",
    "C\n"
   ]
  },
  {
   "cell_type": "code",
   "execution_count": null,
   "id": "110a74d8-0049-4545-8203-1a077cddf790",
   "metadata": {
    "scrolled": true
   },
   "outputs": [],
   "source": [
    "#W = torch.rand(2,2, dtype=torch.float32)\n",
    "W = torch.tensor([[1.,2.],[3.,4.]], dtype=torch.float32)\n",
    "b = torch.rand(2,1,dtype=torch.float32)\n",
    "x = torch.tensor([1.,1.], dtype=torch.float32)\n",
    "y = torch.matmul(W,x) + b\n",
    "print(W)\n",
    "print(torch.matmul(W,x))\n",
    "print(torch.matmul(x,W))\n",
    "print(torch.matmul(W.T,x))\n",
    "print(\"-------------\")\n",
    "print(b)\n",
    "print(y)\n"
   ]
  },
  {
   "cell_type": "code",
   "execution_count": null,
   "id": "02ab7bc9-177e-4317-b7ef-456410952ba7",
   "metadata": {},
   "outputs": [],
   "source": [
    "#W = torch.rand(2,2, dtype=torch.float32)\n",
    "W = torch.tensor([[1.,2.],[3.,4.]], dtype=torch.float32)\n",
    "x = torch.tensor([[1.],[1.]], dtype=torch.float32)\n",
    "y = torch.matmul(W,x)\n",
    "print(W)\n",
    "print(x)\n",
    "print(\"--------------\")\n",
    "print(torch.matmul(W,x))\n",
    "print(torch.matmul(W.T,x))\n",
    "print(torch.matmul(x.T,W))"
   ]
  },
  {
   "cell_type": "code",
   "execution_count": null,
   "id": "4f16f498-e308-4173-a3e5-82b57b47272e",
   "metadata": {},
   "outputs": [],
   "source": [
    "####\n",
    "A = torch.ones((2,2))\n",
    "B = torch.ones((2,2))\n",
    "C = torch.cat((A,B), dim=0)\n",
    "print(C.shape)\n",
    "D = torch.cat((A,B), dim=1)\n",
    "print(D.shape)"
   ]
  },
  {
   "cell_type": "markdown",
   "id": "2fbbeff7-6807-4468-afbe-c012503dd13e",
   "metadata": {},
   "source": [
    "## Backends"
   ]
  },
  {
   "cell_type": "code",
   "execution_count": null,
   "id": "2316d7aa-da34-4814-bef8-15bc7cf9219a",
   "metadata": {},
   "outputs": [],
   "source": [
    "device = torch.device(\"cpu\") # cpu, cuda, ipu, xpu, mkldnn, opengl, opencl, ideep, \n",
    "                             # hip, ve, fpga, maia, xla, lazy, vulkan, mps, meta, hpu, mtia\n",
    "if torch.cuda.is_available():\n",
    "    device = torch.device(\"cuda\") \n",
    "elif torch.backends.mps.is_available():\n",
    "    device = torch.device(\"mps\")\n",
    "print(device)"
   ]
  },
  {
   "cell_type": "code",
   "execution_count": null,
   "id": "9d2a933e-e81b-49e4-b88f-89ddfcd6585a",
   "metadata": {},
   "outputs": [],
   "source": [
    "T = torch.tensor([1.,2.], dtype=torch.float32)\n",
    "T = T.to(device)\n",
    "print(T)"
   ]
  },
  {
   "cell_type": "code",
   "execution_count": null,
   "id": "70b5d9eb-15d6-4337-bc75-496d87367aa4",
   "metadata": {},
   "outputs": [],
   "source": [
    "T.device"
   ]
  },
  {
   "cell_type": "code",
   "execution_count": null,
   "id": "a8bd8181-d1a4-4d9b-8f25-c4354219bff8",
   "metadata": {},
   "outputs": [],
   "source": [
    "# Check if MPS is available\n",
    "if torch.backends.mps.is_available():\n",
    "    device = torch.device(\"mps\")\n",
    "    print(\"✅ Using MPS device\")\n",
    "else:\n",
    "    device = torch.device(\"cpu\")\n",
    "    print(\"⚠️ MPS not available, using CPU\")\n",
    "\n",
    "# Create a tensor on CPU\n",
    "x_cpu = torch.arange(10, dtype=torch.float32)\n",
    "print(\"Original tensor (CPU):\", x_cpu)\n",
    "\n",
    "# Move to MPS\n",
    "x_mps = x_cpu.to(device)\n",
    "print(\"Tensor on MPS:\", x_mps)\n",
    "\n",
    "# Perform a computation on MPS\n",
    "y_mps = x_mps * 2\n",
    "print(\"Computation on MPS:\", y_mps)\n",
    "\n",
    "# Move result back to CPU\n",
    "y_cpu = y_mps.to(\"cpu\")\n",
    "print(\"Result back on CPU:\", y_cpu)\n"
   ]
  },
  {
   "cell_type": "markdown",
   "id": "814edd1d-16af-416d-9487-b8d61b8bd558",
   "metadata": {},
   "source": [
    "## Automatic Differentiation"
   ]
  },
  {
   "cell_type": "code",
   "execution_count": null,
   "id": "0e80545f-6eba-4497-b075-37d60f4c3956",
   "metadata": {},
   "outputs": [],
   "source": [
    "x = torch.tensor(2.0, requires_grad=True)\n",
    "y = x ** 3 + 2 * x + 1   # Build computation graph\n",
    "print(y)"
   ]
  },
  {
   "cell_type": "markdown",
   "id": "f486b6e5-714a-4659-a639-9a4c6332eb61",
   "metadata": {},
   "source": [
    "## Make_dot requires graphviz\n",
    "on mac:\n",
    "```bash\n",
    "brew install graphviz\n",
    "pip install torchviz\n",
    "```"
   ]
  },
  {
   "cell_type": "code",
   "execution_count": null,
   "id": "0fcc4557-c51a-43e9-86bb-e94ac6c30e5f",
   "metadata": {},
   "outputs": [],
   "source": [
    "from torchviz import make_dot\n",
    "# Visualize the computation graph\n",
    "dot = make_dot(y, params={'x': x})\n",
    "dot.render(\"computation_graph\", format=\"png\")"
   ]
  },
  {
   "cell_type": "code",
   "execution_count": null,
   "id": "904ce28b-288f-479f-b902-13d30ede91b7",
   "metadata": {},
   "outputs": [],
   "source": [
    "# Alternativ\n",
    "def print_graph(g, indent=0):\n",
    "    if g is None:\n",
    "        return\n",
    "    print(' ' * indent + str(g))\n",
    "    if hasattr(g, 'next_functions'):\n",
    "        for nf in g.next_functions:\n",
    "            print_graph(nf[0], indent + 2)\n",
    "\n",
    "print_graph(y.grad_fn)"
   ]
  },
  {
   "cell_type": "code",
   "execution_count": null,
   "id": "a4182429-b1f3-46f8-96ec-619e8e9dc078",
   "metadata": {},
   "outputs": [],
   "source": []
  }
 ],
 "metadata": {
  "kernelspec": {
   "display_name": "Python 3 (ipykernel)",
   "language": "python",
   "name": "python3"
  },
  "language_info": {
   "codemirror_mode": {
    "name": "ipython",
    "version": 3
   },
   "file_extension": ".py",
   "mimetype": "text/x-python",
   "name": "python",
   "nbconvert_exporter": "python",
   "pygments_lexer": "ipython3",
   "version": "3.12.12"
  }
 },
 "nbformat": 4,
 "nbformat_minor": 5
}
