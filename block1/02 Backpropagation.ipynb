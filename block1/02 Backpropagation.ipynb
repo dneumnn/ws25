{
 "cells": [
  {
   "cell_type": "markdown",
   "id": "30c00e29-01ed-4b19-99c2-7111069c1516",
   "metadata": {},
   "source": [
    "# Backpropagation"
   ]
  },
  {
   "cell_type": "code",
   "execution_count": null,
   "id": "efd1d0b2-f28b-4520-a2e2-0905aad2fe19",
   "metadata": {},
   "outputs": [],
   "source": [
    "import torch\n",
    "import torch.nn.functional as F "
   ]
  },
  {
   "cell_type": "code",
   "execution_count": null,
   "id": "d8ebff2e-3f65-4913-b97c-a6369ef3e3e3",
   "metadata": {},
   "outputs": [],
   "source": [
    "# parameter\n",
    "in_features, out_features = 4, 3\n",
    "W = torch.randn(out_features, in_features, requires_grad=True)  # (out, in)\n",
    "b = torch.randn(out_features, requires_grad=True)               # (out,)\n"
   ]
  },
  {
   "cell_type": "code",
   "execution_count": null,
   "id": "461f5a21-a3c5-406b-b183-d2d32051fc0c",
   "metadata": {},
   "outputs": [],
   "source": [
    "b"
   ]
  },
  {
   "cell_type": "code",
   "execution_count": null,
   "id": "a901f61b-b29e-4a62-a7ce-f821c3acd291",
   "metadata": {},
   "outputs": [],
   "source": [
    "def forward(W, b, x):\n",
    "    y_hat = torch.matmul(W, x) + b  # (out) + (out)\n",
    "    y_hat = F.sigmoid(y_hat)\n",
    "    return y_hat"
   ]
  },
  {
   "cell_type": "code",
   "execution_count": null,
   "id": "9077592b-01d1-49e7-b570-0549cd67607e",
   "metadata": {},
   "outputs": [],
   "source": [
    "# sample\n",
    "x = torch.randn(in_features)   # (in)\n",
    "y = torch.randn(out_features)  # (out)\n"
   ]
  },
  {
   "cell_type": "code",
   "execution_count": null,
   "id": "f7cc68e4-07dd-4f3d-a50e-72350ea7114d",
   "metadata": {},
   "outputs": [],
   "source": [
    "print(x,y)"
   ]
  },
  {
   "cell_type": "code",
   "execution_count": null,
   "id": "643268ab-9ac9-483a-86a2-8a0451e6017d",
   "metadata": {},
   "outputs": [],
   "source": [
    "lr = 0.0001\n",
    "for epoch in range(100000):\n",
    "    y_hat = forward(W, b, x)\n",
    "    #loss = (y_hat - y).pow(2).sum()\n",
    "    loss = (y_hat - y).pow(2).mean()\n",
    "    if W.grad is not None:\n",
    "        W.grad.zero_()\n",
    "    if b.grad is not None:\n",
    "        b.grad.zero_()\n",
    "    loss.backward()\n",
    "    if (epoch + 1) % 1000 == 0:\n",
    "        print(f\"Epoch {epoch+1:02d} | Loss: {loss.item():.4f}\")\n",
    "    \n",
    "    with torch.no_grad():\n",
    "        W -= lr * W.grad\n",
    "        b -= lr * b.grad"
   ]
  },
  {
   "cell_type": "code",
   "execution_count": null,
   "id": "ec2642aa-a088-48f2-afb9-146b2edb5fbb",
   "metadata": {},
   "outputs": [],
   "source": [
    "with torch.no_grad():\n",
    "    y_hat = forward(W, b, x)\n"
   ]
  },
  {
   "cell_type": "code",
   "execution_count": null,
   "id": "e23e41c3-022f-4dbe-a428-6cb02f5865f0",
   "metadata": {},
   "outputs": [],
   "source": [
    "y_hat"
   ]
  },
  {
   "cell_type": "code",
   "execution_count": null,
   "id": "b7ba02ef-e716-42d4-bfac-2a14e85e3001",
   "metadata": {},
   "outputs": [],
   "source": [
    "y"
   ]
  },
  {
   "cell_type": "code",
   "execution_count": null,
   "id": "c7eb59f1-c990-4423-9f2c-65e132019b0b",
   "metadata": {},
   "outputs": [],
   "source": []
  }
 ],
 "metadata": {
  "kernelspec": {
   "display_name": "Python 3 (ipykernel)",
   "language": "python",
   "name": "python3"
  },
  "language_info": {
   "codemirror_mode": {
    "name": "ipython",
    "version": 3
   },
   "file_extension": ".py",
   "mimetype": "text/x-python",
   "name": "python",
   "nbconvert_exporter": "python",
   "pygments_lexer": "ipython3",
   "version": "3.12.12"
  }
 },
 "nbformat": 4,
 "nbformat_minor": 5
}
