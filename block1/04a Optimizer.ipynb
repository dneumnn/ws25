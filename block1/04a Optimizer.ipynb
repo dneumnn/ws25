{
 "cells": [
  {
   "cell_type": "markdown",
   "id": "019430a2-4a10-499e-bb80-9cb0f57d98f5",
   "metadata": {},
   "source": [
    "## Optimizer\n",
    "\n",
    "| Aspekt      | Erklärung                                                                 |\n",
    "| ----------- | ------------------------------------------------------------------------- |\n",
    "| **Was**     | Eine eigene Optimizer-Klasse verwaltet, wie Parameter aktualisiert werden |\n",
    "| **Warum**   | Volle Kontrolle über Lernregeln (Forschung, neue Verfahren)               |\n",
    "| **Wie**     | Erben von `torch.optim.Optimizer`, `__init__` + `step()` implementieren   |\n",
    "| **Wichtig** | Immer `@torch.no_grad()` bei Updates verwenden, um Autograd zu vermeiden  |\n"
   ]
  },
  {
   "cell_type": "code",
   "execution_count": 1,
   "id": "ca4b850f-902e-40eb-9d80-a38bfd6e523a",
   "metadata": {},
   "outputs": [],
   "source": [
    "import torch\n",
    "from torch.optim import Optimizer\n",
    "\n",
    "class MyOptimizer(Optimizer):\n",
    "    def __init__(self, params, lr=0.01):\n",
    "        # params = model.parameters()\n",
    "        # defaults = Dictionary mit Hyperparametern\n",
    "        defaults = dict(lr=lr)\n",
    "        super().__init__(params, defaults)\n",
    "\n",
    "    @torch.no_grad()  # verhindert das Aufzeichnen im Autograd-Graph\n",
    "    def step(self, closure=None):\n",
    "        loss = None\n",
    "        if closure is not None:\n",
    "            with torch.enable_grad():\n",
    "                loss = closure()\n",
    "\n",
    "        # Iteriere über alle Parametergruppen (z. B. für verschiedene LR)\n",
    "        for group in self.param_groups:\n",
    "            lr = group['lr']\n",
    "            for p in group['params']:\n",
    "                if p.grad is None:\n",
    "                    continue  # Parameter ohne Gradient überspringen\n",
    "\n",
    "                # Parameterupdate: θ ← θ - lr * ∂L/∂θ\n",
    "                # p=p+(−lr)×p.grad\n",
    "                p.add_(p.grad, alpha=-lr)\n",
    "\n",
    "                #add_() is the in-place version of add() (notice the underscore _).\n",
    "                # It means: modify the tensor itself rather than creating a new one.\n",
    "\n",
    "        return loss\n"
   ]
  },
  {
   "cell_type": "code",
   "execution_count": 2,
   "id": "e6e35d8b-f156-47c9-8c2b-ddc9ae6afb93",
   "metadata": {},
   "outputs": [
    {
     "name": "stdout",
     "output_type": "stream",
     "text": [
      "Epoch 1, Loss: 1.2072\n",
      "Epoch 2, Loss: 1.6639\n",
      "Epoch 3, Loss: 1.5517\n",
      "Epoch 4, Loss: 1.2095\n",
      "Epoch 5, Loss: 1.1861\n"
     ]
    }
   ],
   "source": [
    "import torch.nn as nn\n",
    "\n",
    "# Beispielmodell\n",
    "model = nn.Linear(10, 1)\n",
    "criterion = nn.MSELoss()\n",
    "\n",
    "# Dein eigener Optimizer\n",
    "optimizer = MyOptimizer(model.parameters(), lr=0.1)\n",
    "\n",
    "# Trainingsloop\n",
    "for epoch in range(5):\n",
    "    inputs = torch.randn(8, 10)\n",
    "    targets = torch.randn(8, 1)\n",
    "\n",
    "    optimizer.zero_grad()           # Gradienten löschen\n",
    "    outputs = model(inputs)\n",
    "    loss = criterion(outputs, targets)\n",
    "    loss.backward()                 # Gradienten berechnen\n",
    "    optimizer.step()                # Parameter updaten\n",
    "\n",
    "    print(f\"Epoch {epoch+1}, Loss: {loss.item():.4f}\")\n"
   ]
  },
  {
   "cell_type": "code",
   "execution_count": null,
   "id": "c7eb59f1-c990-4423-9f2c-65e132019b0b",
   "metadata": {},
   "outputs": [],
   "source": []
  }
 ],
 "metadata": {
  "kernelspec": {
   "display_name": "Python 3 (ipykernel)",
   "language": "python",
   "name": "python3"
  },
  "language_info": {
   "codemirror_mode": {
    "name": "ipython",
    "version": 3
   },
   "file_extension": ".py",
   "mimetype": "text/x-python",
   "name": "python",
   "nbconvert_exporter": "python",
   "pygments_lexer": "ipython3",
   "version": "3.12.11"
  }
 },
 "nbformat": 4,
 "nbformat_minor": 5
}
