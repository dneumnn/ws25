{
 "cells": [
  {
   "cell_type": "markdown",
   "id": "f1fa233f-b8b2-401f-aa50-abc9917ca51f",
   "metadata": {},
   "source": [
    "# Neural Network"
   ]
  },
  {
   "cell_type": "code",
   "execution_count": null,
   "id": "37bf7039-bbc7-422a-9a3e-c7441545c833",
   "metadata": {},
   "outputs": [],
   "source": [
    "import torch\n",
    "from torch import nn"
   ]
  },
  {
   "cell_type": "code",
   "execution_count": null,
   "id": "8d3b771f-3f31-4235-9abb-419a9de36baf",
   "metadata": {},
   "outputs": [],
   "source": [
    "X = torch.tensor([[1.0, 2.0, 3.0],     # batch of two samples with 3 features\n",
    "                  [4.0, 5.0, 6.0]])\n",
    "\n",
    "# Target values: 2D output for each sample\n",
    "y = torch.tensor([[1.0, 2.0],\n",
    "                  [3.0, 4.0]])        # batch of two output vectors"
   ]
  },
  {
   "cell_type": "code",
   "execution_count": null,
   "id": "8d622c46-94ce-43b2-a3e3-ac98753e3b05",
   "metadata": {},
   "outputs": [],
   "source": [
    "X.shape"
   ]
  },
  {
   "cell_type": "code",
   "execution_count": null,
   "id": "9692bec2-f339-4d49-b2ee-03a1e2d75758",
   "metadata": {},
   "outputs": [],
   "source": [
    "y.shape"
   ]
  },
  {
   "cell_type": "code",
   "execution_count": null,
   "id": "f25baf30-a4f3-4153-ae20-9c44b8969783",
   "metadata": {},
   "outputs": [],
   "source": [
    "# Linear NN Cell with in_features = 3 and out_features = 2\n",
    "# needs Weight Matrix W of shape (2,3) and bias b of shape (2)\n",
    "#\n",
    "# Ein Sample\n",
    "#\n",
    "# y = x * W.T + b\n",
    "#\n",
    "#          w11 w12 w13  \n",
    "#   = x *              .T + b\n",
    "#          w21 w22 w23 \n",
    "#\n",
    "#               w11 w21     b1\n",
    "#  = (1,2,3) *  w12 w22  + \n",
    "#               w13 w23     b2"
   ]
  },
  {
   "cell_type": "code",
   "execution_count": null,
   "id": "ec48ae41-d29c-4c73-8947-f17c2230b4e0",
   "metadata": {},
   "outputs": [],
   "source": [
    "L = nn.Linear(3, 2, bias=True)"
   ]
  },
  {
   "cell_type": "code",
   "execution_count": null,
   "id": "be9a862f-bdc1-4ed7-bed5-738b64847784",
   "metadata": {},
   "outputs": [],
   "source": [
    "W = L.weight\n",
    "W"
   ]
  },
  {
   "cell_type": "code",
   "execution_count": null,
   "id": "b3b4ba07-d9e8-48f7-895f-8412f5be7534",
   "metadata": {},
   "outputs": [],
   "source": [
    "b = L.bias\n",
    "b"
   ]
  },
  {
   "cell_type": "code",
   "execution_count": null,
   "id": "55acb16f-d476-4341-92f6-c9c6bec877c9",
   "metadata": {},
   "outputs": [],
   "source": [
    "y_hat = X @ W.T + b\n",
    "y_hat"
   ]
  },
  {
   "cell_type": "code",
   "execution_count": null,
   "id": "6d4f308d-1b40-4c3c-a20f-ce8576c740d3",
   "metadata": {},
   "outputs": [],
   "source": [
    "y_hat = L(X)\n",
    "y_hat"
   ]
  },
  {
   "cell_type": "code",
   "execution_count": null,
   "id": "51b67f15-a57a-4f8c-a173-ef9c59b89e75",
   "metadata": {},
   "outputs": [],
   "source": [
    "loss = ((y_hat-y)*(y_hat-y)).sum()\n",
    "loss"
   ]
  },
  {
   "cell_type": "code",
   "execution_count": null,
   "id": "bb12d1e6-da77-4a88-9ece-7b6d23f9569a",
   "metadata": {},
   "outputs": [],
   "source": []
  },
  {
   "cell_type": "code",
   "execution_count": null,
   "id": "b01abedb-f776-4336-9679-8ca04a996b55",
   "metadata": {},
   "outputs": [],
   "source": []
  },
  {
   "cell_type": "code",
   "execution_count": null,
   "id": "4f1d7518-cdbf-4d39-943a-ae9d9969bc21",
   "metadata": {},
   "outputs": [],
   "source": [
    "from torch import optim\n",
    "learning_rate = 0.01\n",
    "optimizer = optim.Adam(L.parameters(), lr=learning_rate)"
   ]
  },
  {
   "cell_type": "code",
   "execution_count": null,
   "id": "a0c68a71-7c7a-4d9d-af5b-21a7d89d8db1",
   "metadata": {},
   "outputs": [],
   "source": [
    "total_loss = 0\n",
    "for epoch in range(1000): # 100 Durchläufe\n",
    "    y_hat = L(X)\n",
    "    loss = ((y_hat-y)*(y_hat-y)).sum()\n",
    "    #loss = (y_hat - y).abs().sum()\n",
    "    total_loss += loss.item()\n",
    "    \n",
    "    optimizer.zero_grad()\n",
    "    loss.backward()\n",
    "    optimizer.step()\n",
    "    \n",
    "    if epoch % 10 == 0:\n",
    "        print(f\"Epoch {epoch}, Loss: {loss.item():.4f}\")"
   ]
  },
  {
   "cell_type": "code",
   "execution_count": null,
   "id": "87fb8298-ca0b-4a35-b9c5-c440fe540b54",
   "metadata": {},
   "outputs": [],
   "source": [
    "L.weight"
   ]
  },
  {
   "cell_type": "code",
   "execution_count": null,
   "id": "588a3054-0290-434e-8ba0-e9e8e5ecfab6",
   "metadata": {},
   "outputs": [],
   "source": [
    "L(X)"
   ]
  },
  {
   "cell_type": "code",
   "execution_count": null,
   "id": "7a5acab5-7977-4a80-ac49-0e8899a01572",
   "metadata": {},
   "outputs": [],
   "source": [
    "y"
   ]
  },
  {
   "cell_type": "code",
   "execution_count": null,
   "id": "1cc59ef6-df22-44ed-badb-91d7900d024c",
   "metadata": {},
   "outputs": [],
   "source": [
    "########### Backup ###########"
   ]
  },
  {
   "cell_type": "code",
   "execution_count": null,
   "id": "b4b55e4a-50f3-4ab7-9d2e-f4840df03702",
   "metadata": {},
   "outputs": [],
   "source": [
    "import torch\n",
    "import torch.nn as nn\n",
    "import torch.optim as optim\n",
    "\n",
    "# 1. Define data ---------------------------------------------------\n",
    "# Batch of 2 samples, each with 3 features\n",
    "X = torch.tensor([[1.0, 2.0, 3.0],\n",
    "                  [4.0, 5.0, 6.0]])\n",
    "\n",
    "# Target values: 2D output for each sample\n",
    "y = torch.tensor([[1.0, 2.0],\n",
    "                  [3.0, 4.0]])\n",
    "\n",
    "# 2. Define a simple linear model ----------------------------------\n",
    "# Maps 3 input features -> 2 output features\n",
    "model = nn.Linear(in_features=3, out_features=2, bias=True)\n",
    "\n",
    "# 3. Define loss function and optimizer ----------------------------\n",
    "criterion = nn.MSELoss()            # mean squared error loss\n",
    "optimizer = optim.SGD(model.parameters(), lr=0.01)\n",
    "\n",
    "# 4. Training loop -------------------------------------------------\n",
    "for epoch in range(100):\n",
    "    # Forward pass\n",
    "    y_pred = model(X)\n",
    "\n",
    "    # Compute loss\n",
    "    loss = criterion(y_pred, y)\n",
    "\n",
    "    # Backward pass\n",
    "    optimizer.zero_grad()   # reset gradients\n",
    "    loss.backward()         # compute new gradients\n",
    "    optimizer.step()        # update weights\n",
    "\n",
    "    # Print progress\n",
    "    if (epoch + 1) % 10 == 0:\n",
    "        print(f\"Epoch [{epoch+1}/100]  Loss: {loss.item():.6f}\")\n",
    "\n",
    "# 5. Check final prediction ----------------------------------------\n",
    "print(\"\\nFinal predictions:\")\n",
    "print(model(X))\n"
   ]
  },
  {
   "cell_type": "code",
   "execution_count": null,
   "id": "09981866-5ab0-4923-9cd7-0db9ff6f7175",
   "metadata": {},
   "outputs": [],
   "source": []
  }
 ],
 "metadata": {
  "kernelspec": {
   "display_name": "Python 3 (ipykernel)",
   "language": "python",
   "name": "python3"
  },
  "language_info": {
   "codemirror_mode": {
    "name": "ipython",
    "version": 3
   },
   "file_extension": ".py",
   "mimetype": "text/x-python",
   "name": "python",
   "nbconvert_exporter": "python",
   "pygments_lexer": "ipython3",
   "version": "3.12.12"
  }
 },
 "nbformat": 4,
 "nbformat_minor": 5
}
